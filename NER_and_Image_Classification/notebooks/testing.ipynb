{
 "cells": [
  {
   "cell_type": "code",
   "execution_count": 1,
   "metadata": {},
   "outputs": [
    {
     "name": "stdout",
     "output_type": "stream",
     "text": [
      "WARNING:tensorflow:From C:\\Users\\viole\\AppData\\Local\\Packages\\PythonSoftwareFoundation.Python.3.11_qbz5n2kfra8p0\\LocalCache\\local-packages\\Python311\\site-packages\\tf_keras\\src\\losses.py:2976: The name tf.losses.sparse_softmax_cross_entropy is deprecated. Please use tf.compat.v1.losses.sparse_softmax_cross_entropy instead.\n",
      "\n"
     ]
    }
   ],
   "source": [
    "import os\n",
    "from transformers import AutoTokenizer, AutoModelForTokenClassification, Trainer, TrainingArguments\n",
    "from datasets import load_dataset\n",
    "import evaluate\n",
    "import numpy as np"
   ]
  },
  {
   "cell_type": "code",
   "execution_count": 2,
   "metadata": {},
   "outputs": [],
   "source": [
    "# Load the CoNLL-2003 dataset with trust_remote_code=True\n",
    "dataset = load_dataset(\"conll2003\", trust_remote_code=True)"
   ]
  },
  {
   "cell_type": "code",
   "execution_count": 3,
   "metadata": {},
   "outputs": [],
   "source": [
    "# Define a mapping for labels\n",
    "label_list = dataset[\"train\"].features[\"ner_tags\"].feature.names\n",
    "label_list.append(\"B-ANIMAL\")  # Add a new label for animals\n",
    "label_list.append(\"I-ANIMAL\")  # Add a new label for animals (inside token)"
   ]
  },
  {
   "cell_type": "code",
   "execution_count": 4,
   "metadata": {},
   "outputs": [],
   "source": [
    "# List of animals to recognize (from animal.txt)\n",
    "animals = [\n",
    "    \"antelope\", \"badger\", \"bat\", \"bear\", \"bee\", \"beetle\", \"bison\", \"boar\", \"butterfly\",\n",
    "    \"cat\", \"caterpillar\", \"chimpanzee\", \"cockroach\", \"cow\", \"coyote\", \"crab\", \"crow\",\n",
    "    \"deer\", \"dog\", \"dolphin\", \"donkey\", \"dragonfly\", \"duck\", \"eagle\", \"elephant\",\n",
    "    \"flamingo\", \"fly\", \"fox\", \"goat\", \"goldfish\", \"goose\", \"gorilla\", \"grasshopper\",\n",
    "    \"hamster\", \"hare\", \"hedgehog\", \"hippopotamus\", \"hornbill\", \"horse\", \"hummingbird\",\n",
    "    \"hyena\", \"jellyfish\", \"kangaroo\", \"koala\", \"ladybugs\", \"leopard\", \"lion\", \"lizard\",\n",
    "    \"lobster\", \"mosquito\", \"moth\", \"mouse\", \"octopus\", \"okapi\", \"orangutan\", \"otter\",\n",
    "    \"owl\", \"ox\", \"oyster\", \"panda\", \"parrot\", \"pelecaniformes\", \"penguin\", \"pig\",\n",
    "    \"pigeon\", \"porcupine\", \"possum\", \"raccoon\", \"rat\", \"reindeer\", \"rhinoceros\",\n",
    "    \"sandpiper\", \"seahorse\", \"seal\", \"shark\", \"sheep\", \"snake\", \"sparrow\", \"squid\",\n",
    "    \"squirrel\", \"starfish\", \"swan\", \"tiger\", \"turkey\", \"turtle\", \"whale\", \"wolf\",\n",
    "    \"wombat\", \"woodpecker\", \"zebra\"\n",
    "]"
   ]
  },
  {
   "cell_type": "code",
   "execution_count": 5,
   "metadata": {},
   "outputs": [
    {
     "name": "stderr",
     "output_type": "stream",
     "text": [
      "Some weights of DistilBertForTokenClassification were not initialized from the model checkpoint at distilbert-base-cased and are newly initialized: ['classifier.bias', 'classifier.weight']\n",
      "You should probably TRAIN this model on a down-stream task to be able to use it for predictions and inference.\n"
     ]
    }
   ],
   "source": [
    "# Load a pre-trained tokenizer and model (DistilBERT)\n",
    "model_name = \"distilbert-base-cased\"\n",
    "tokenizer = AutoTokenizer.from_pretrained(model_name)\n",
    "model = AutoModelForTokenClassification.from_pretrained(model_name, num_labels=len(label_list))"
   ]
  },
  {
   "cell_type": "code",
   "execution_count": 6,
   "metadata": {},
   "outputs": [],
   "source": [
    "# Tokenize the dataset and align labels\n",
    "def tokenize_and_align_labels(examples):\n",
    "    tokenized_inputs = tokenizer(\n",
    "        examples[\"tokens\"],\n",
    "        truncation=True,  # Truncate sequences to the model's max length\n",
    "        padding=\"max_length\",  # Pad sequences to the maximum length\n",
    "        is_split_into_words=True,\n",
    "    )\n",
    "    labels = []\n",
    "    for i, label in enumerate(examples[\"ner_tags\"]):\n",
    "        word_ids = tokenized_inputs.word_ids(batch_index=i)\n",
    "        label_ids = []\n",
    "        for word_idx in word_ids:\n",
    "            if word_idx is None:\n",
    "                label_ids.append(-100)  # Special token (e.g., [CLS], [SEP])\n",
    "            else:\n",
    "                # Map the original label to the new label list\n",
    "                original_label = label[word_idx]\n",
    "                if original_label == -100:\n",
    "                    label_ids.append(-100)\n",
    "                else:\n",
    "                    label_name = label_list[original_label]\n",
    "                    if label_name.startswith(\"B-\") or label_name.startswith(\"I-\"):\n",
    "                        # Replace with animal labels if the word is an animal\n",
    "                        token = examples[\"tokens\"][i][word_idx].lower()  # Ensure the token is lowercase\n",
    "                        if token in animals:  # Check if the token is in the animal list\n",
    "                            if label_name.startswith(\"B-\"):\n",
    "                                label_ids.append(label_list.index(\"B-ANIMAL\"))\n",
    "                            else:\n",
    "                                label_ids.append(label_list.index(\"I-ANIMAL\"))\n",
    "                        else:\n",
    "                            label_ids.append(original_label)\n",
    "                    else:\n",
    "                        label_ids.append(original_label)\n",
    "        # Pad or truncate labels to match the tokenized input length\n",
    "        label_ids = label_ids[:len(tokenized_inputs[\"input_ids\"][i])]  # Truncate if necessary\n",
    "        label_ids.extend([-100] * (len(tokenized_inputs[\"input_ids\"][i]) - len(label_ids)))  # Pad if necessary\n",
    "        labels.append(label_ids)\n",
    "    tokenized_inputs[\"labels\"] = labels\n",
    "    return tokenized_inputs"
   ]
  },
  {
   "cell_type": "code",
   "execution_count": 7,
   "metadata": {},
   "outputs": [
    {
     "data": {
      "application/vnd.jupyter.widget-view+json": {
       "model_id": "f6f269c1780741e4b9c60e601215b244",
       "version_major": 2,
       "version_minor": 0
      },
      "text/plain": [
       "Map:   0%|          | 0/14041 [00:00<?, ? examples/s]"
      ]
     },
     "metadata": {},
     "output_type": "display_data"
    },
    {
     "data": {
      "application/vnd.jupyter.widget-view+json": {
       "model_id": "747c80799f9e4e27a1fbb1c8c12dc4d9",
       "version_major": 2,
       "version_minor": 0
      },
      "text/plain": [
       "Map:   0%|          | 0/3250 [00:00<?, ? examples/s]"
      ]
     },
     "metadata": {},
     "output_type": "display_data"
    },
    {
     "data": {
      "application/vnd.jupyter.widget-view+json": {
       "model_id": "66c43f84f7bd4266b126646a1e4aaa8d",
       "version_major": 2,
       "version_minor": 0
      },
      "text/plain": [
       "Map:   0%|          | 0/3453 [00:00<?, ? examples/s]"
      ]
     },
     "metadata": {},
     "output_type": "display_data"
    }
   ],
   "source": [
    "# Apply tokenization and alignment\n",
    "tokenized_datasets = dataset.map(tokenize_and_align_labels, batched=True)"
   ]
  },
  {
   "cell_type": "code",
   "execution_count": 8,
   "metadata": {},
   "outputs": [
    {
     "name": "stderr",
     "output_type": "stream",
     "text": [
      "C:\\Users\\viole\\AppData\\Local\\Packages\\PythonSoftwareFoundation.Python.3.11_qbz5n2kfra8p0\\LocalCache\\local-packages\\Python311\\site-packages\\transformers\\training_args.py:1575: FutureWarning: `evaluation_strategy` is deprecated and will be removed in version 4.46 of 🤗 Transformers. Use `eval_strategy` instead\n",
      "  warnings.warn(\n"
     ]
    }
   ],
   "source": [
    "# Define training arguments\n",
    "training_args = TrainingArguments(\n",
    "    output_dir=\"../models/ner_model\",  # Directory to save the model\n",
    "    evaluation_strategy=\"epoch\",    # Evaluate every epoch\n",
    "    learning_rate=2e-5,             # Learning rate\n",
    "    per_device_train_batch_size=16, # Batch size for training\n",
    "    per_device_eval_batch_size=16,  # Batch size for evaluation\n",
    "    num_train_epochs=20,             # Number of epochs\n",
    "    weight_decay=0.01,              # Weight decay\n",
    "    save_strategy=\"epoch\",          # Save model every epoch\n",
    "    logging_dir=\"logs\",             # Directory for logs\n",
    "    logging_steps=10,               # Log every 10 steps\n",
    "    report_to=\"none\",               # Disable external logging\n",
    ")"
   ]
  },
  {
   "cell_type": "code",
   "execution_count": 9,
   "metadata": {},
   "outputs": [],
   "source": [
    "# Define a function to compute metrics\n",
    "def compute_metrics(p):\n",
    "    predictions, labels = p\n",
    "    predictions = np.argmax(predictions, axis=2)\n",
    "\n",
    "    # Remove ignored index (special tokens)\n",
    "    true_labels = [[label_list[l] for l in label if l != -100] for label in labels]\n",
    "    true_predictions = [\n",
    "        [label_list[p] for (p, l) in zip(prediction, label) if l != -100]\n",
    "        for prediction, label in zip(predictions, labels)\n",
    "    ]\n",
    "\n",
    "    # Load the seqeval metric using evaluate\n",
    "    metric = evaluate.load(\"seqeval\")\n",
    "    results = metric.compute(predictions=true_predictions, references=true_labels)\n",
    "    return {\n",
    "        \"precision\": results[\"overall_precision\"],\n",
    "        \"recall\": results[\"overall_recall\"],\n",
    "        \"f1\": results[\"overall_f1\"],\n",
    "        \"accuracy\": results[\"overall_accuracy\"],\n",
    "    }"
   ]
  },
  {
   "cell_type": "code",
   "execution_count": 10,
   "metadata": {},
   "outputs": [
    {
     "name": "stderr",
     "output_type": "stream",
     "text": [
      "C:\\Users\\viole\\AppData\\Local\\Temp\\ipykernel_38240\\590862497.py:2: FutureWarning: `tokenizer` is deprecated and will be removed in version 5.0.0 for `Trainer.__init__`. Use `processing_class` instead.\n",
      "  trainer = Trainer(\n"
     ]
    }
   ],
   "source": [
    "\n",
    "# Initialize the Trainer\n",
    "trainer = Trainer(\n",
    "    model=model,\n",
    "    args=training_args,\n",
    "    train_dataset=tokenized_datasets[\"train\"],\n",
    "    eval_dataset=tokenized_datasets[\"validation\"],\n",
    "    tokenizer=tokenizer,\n",
    "    compute_metrics=compute_metrics,\n",
    ")\n"
   ]
  },
  {
   "cell_type": "code",
   "execution_count": null,
   "metadata": {},
   "outputs": [
    {
     "data": {
      "text/html": [
       "\n",
       "    <div>\n",
       "      \n",
       "      <progress value='356' max='17560' style='width:300px; height:20px; vertical-align: middle;'></progress>\n",
       "      [  356/17560 03:21 < 2:42:49, 1.76 it/s, Epoch 0.40/20]\n",
       "    </div>\n",
       "    <table border=\"1\" class=\"dataframe\">\n",
       "  <thead>\n",
       " <tr style=\"text-align: left;\">\n",
       "      <th>Epoch</th>\n",
       "      <th>Training Loss</th>\n",
       "      <th>Validation Loss</th>\n",
       "    </tr>\n",
       "  </thead>\n",
       "  <tbody>\n",
       "  </tbody>\n",
       "</table><p>"
      ],
      "text/plain": [
       "<IPython.core.display.HTML object>"
      ]
     },
     "metadata": {},
     "output_type": "display_data"
    }
   ],
   "source": [
    "# Train the model\n",
    "trainer.train()"
   ]
  },
  {
   "cell_type": "code",
   "execution_count": null,
   "metadata": {},
   "outputs": [],
   "source": [
    "# Save the model\n",
    "trainer.save_model(\"../models/ner_model\")\n",
    "tokenizer.save_pretrained(\"../models/ner_model\")"
   ]
  }
 ],
 "metadata": {
  "kernelspec": {
   "display_name": "Python 3",
   "language": "python",
   "name": "python3"
  },
  "language_info": {
   "codemirror_mode": {
    "name": "ipython",
    "version": 3
   },
   "file_extension": ".py",
   "mimetype": "text/x-python",
   "name": "python",
   "nbconvert_exporter": "python",
   "pygments_lexer": "ipython3",
   "version": "3.11.9"
  }
 },
 "nbformat": 4,
 "nbformat_minor": 2
}
